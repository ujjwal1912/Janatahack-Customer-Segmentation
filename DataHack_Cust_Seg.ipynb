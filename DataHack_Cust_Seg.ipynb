{
  "nbformat": 4,
  "nbformat_minor": 0,
  "metadata": {
    "colab": {
      "name": "DataHack_Cust_Seg.ipynb",
      "provenance": [],
      "collapsed_sections": [],
      "toc_visible": true
    },
    "kernelspec": {
      "name": "python3",
      "display_name": "Python 3"
    },
    "accelerator": "GPU"
  },
  "cells": [
    {
      "cell_type": "code",
      "metadata": {
        "id": "IqJ0RIhgZ5-r",
        "colab_type": "code",
        "colab": {}
      },
      "source": [
        "import pandas as pd\n",
        "import numpy as np\n",
        "import matplotlib.pyplot as plt"
      ],
      "execution_count": 1,
      "outputs": []
    },
    {
      "cell_type": "code",
      "metadata": {
        "id": "aVXV5K9taabB",
        "colab_type": "code",
        "colab": {}
      },
      "source": [
        "train = pd.read_csv('/content/drive/My Drive/Data Hack/Customer Segmentation/data/train.csv')\n",
        "test = pd.read_csv('/content/drive/My Drive/Data Hack/Customer Segmentation/data/test.csv')\n",
        "sample = pd.read_csv('/content/drive/My Drive/Data Hack/Customer Segmentation/data/sample_submission.csv')"
      ],
      "execution_count": 2,
      "outputs": []
    },
    {
      "cell_type": "code",
      "metadata": {
        "id": "igRCjRCTczXG",
        "colab_type": "code",
        "colab": {}
      },
      "source": [
        "train_target = train['Segmentation']\n",
        "train = train.drop(['Segmentation'], axis=1)"
      ],
      "execution_count": 3,
      "outputs": []
    },
    {
      "cell_type": "code",
      "metadata": {
        "id": "S8U9OvejawCb",
        "colab_type": "code",
        "colab": {
          "base_uri": "https://localhost:8080/",
          "height": 51
        },
        "outputId": "35b66f1c-e35e-4113-dc78-12bad968ad84"
      },
      "source": [
        "print(train.shape)\n",
        "print(test.shape)"
      ],
      "execution_count": 4,
      "outputs": [
        {
          "output_type": "stream",
          "text": [
            "(8068, 10)\n",
            "(2627, 10)\n"
          ],
          "name": "stdout"
        }
      ]
    },
    {
      "cell_type": "code",
      "metadata": {
        "id": "nWYrrh_Ea0B3",
        "colab_type": "code",
        "colab": {
          "base_uri": "https://localhost:8080/",
          "height": 111
        },
        "outputId": "fa0f364d-f7a7-4fc5-b7ca-5cd3d59bfa8f"
      },
      "source": [
        "train.head(2)"
      ],
      "execution_count": 5,
      "outputs": [
        {
          "output_type": "execute_result",
          "data": {
            "text/html": [
              "<div>\n",
              "<style scoped>\n",
              "    .dataframe tbody tr th:only-of-type {\n",
              "        vertical-align: middle;\n",
              "    }\n",
              "\n",
              "    .dataframe tbody tr th {\n",
              "        vertical-align: top;\n",
              "    }\n",
              "\n",
              "    .dataframe thead th {\n",
              "        text-align: right;\n",
              "    }\n",
              "</style>\n",
              "<table border=\"1\" class=\"dataframe\">\n",
              "  <thead>\n",
              "    <tr style=\"text-align: right;\">\n",
              "      <th></th>\n",
              "      <th>ID</th>\n",
              "      <th>Gender</th>\n",
              "      <th>Ever_Married</th>\n",
              "      <th>Age</th>\n",
              "      <th>Graduated</th>\n",
              "      <th>Profession</th>\n",
              "      <th>Work_Experience</th>\n",
              "      <th>Spending_Score</th>\n",
              "      <th>Family_Size</th>\n",
              "      <th>Var_1</th>\n",
              "    </tr>\n",
              "  </thead>\n",
              "  <tbody>\n",
              "    <tr>\n",
              "      <th>0</th>\n",
              "      <td>462809</td>\n",
              "      <td>Male</td>\n",
              "      <td>No</td>\n",
              "      <td>22</td>\n",
              "      <td>No</td>\n",
              "      <td>Healthcare</td>\n",
              "      <td>1.0</td>\n",
              "      <td>Low</td>\n",
              "      <td>4.0</td>\n",
              "      <td>Cat_4</td>\n",
              "    </tr>\n",
              "    <tr>\n",
              "      <th>1</th>\n",
              "      <td>462643</td>\n",
              "      <td>Female</td>\n",
              "      <td>Yes</td>\n",
              "      <td>38</td>\n",
              "      <td>Yes</td>\n",
              "      <td>Engineer</td>\n",
              "      <td>NaN</td>\n",
              "      <td>Average</td>\n",
              "      <td>3.0</td>\n",
              "      <td>Cat_4</td>\n",
              "    </tr>\n",
              "  </tbody>\n",
              "</table>\n",
              "</div>"
            ],
            "text/plain": [
              "       ID  Gender Ever_Married  ...  Spending_Score Family_Size  Var_1\n",
              "0  462809    Male           No  ...             Low         4.0  Cat_4\n",
              "1  462643  Female          Yes  ...         Average         3.0  Cat_4\n",
              "\n",
              "[2 rows x 10 columns]"
            ]
          },
          "metadata": {
            "tags": []
          },
          "execution_count": 5
        }
      ]
    },
    {
      "cell_type": "code",
      "metadata": {
        "id": "fgYLzD4RT_C4",
        "colab_type": "code",
        "colab": {
          "base_uri": "https://localhost:8080/",
          "height": 204
        },
        "outputId": "6e2c178b-8215-4d83-a9ad-314373d242f3"
      },
      "source": [
        "train.dtypes"
      ],
      "execution_count": 6,
      "outputs": [
        {
          "output_type": "execute_result",
          "data": {
            "text/plain": [
              "ID                   int64\n",
              "Gender              object\n",
              "Ever_Married        object\n",
              "Age                  int64\n",
              "Graduated           object\n",
              "Profession          object\n",
              "Work_Experience    float64\n",
              "Spending_Score      object\n",
              "Family_Size        float64\n",
              "Var_1               object\n",
              "dtype: object"
            ]
          },
          "metadata": {
            "tags": []
          },
          "execution_count": 6
        }
      ]
    },
    {
      "cell_type": "code",
      "metadata": {
        "id": "ZCkL04__T1wp",
        "colab_type": "code",
        "colab": {
          "base_uri": "https://localhost:8080/",
          "height": 204
        },
        "outputId": "9904a697-6200-4d28-bd8e-61693f68c77c"
      },
      "source": [
        "train.nunique()"
      ],
      "execution_count": 7,
      "outputs": [
        {
          "output_type": "execute_result",
          "data": {
            "text/plain": [
              "ID                 8068\n",
              "Gender                2\n",
              "Ever_Married          2\n",
              "Age                  67\n",
              "Graduated             2\n",
              "Profession            9\n",
              "Work_Experience      15\n",
              "Spending_Score        3\n",
              "Family_Size           9\n",
              "Var_1                 7\n",
              "dtype: int64"
            ]
          },
          "metadata": {
            "tags": []
          },
          "execution_count": 7
        }
      ]
    },
    {
      "cell_type": "code",
      "metadata": {
        "id": "sqcmAH8bVMPI",
        "colab_type": "code",
        "colab": {}
      },
      "source": [
        "train.Var_1.fillna('Cat_10', inplace=True)\n",
        "train.Var_1 = train['Var_1'].apply(lambda x:int(str(x).split('_')[1]))\n",
        "\n",
        "test.Var_1.fillna('Cat_10', inplace=True)\n",
        "test.Var_1 = test['Var_1'].apply(lambda x:int(str(x).split('_')[1]))"
      ],
      "execution_count": 8,
      "outputs": []
    },
    {
      "cell_type": "code",
      "metadata": {
        "id": "n8y1bFwlUMnB",
        "colab_type": "code",
        "colab": {}
      },
      "source": [
        "Profession = {\n",
        "    'Healthcare':0,\n",
        "    'Engineer':1,\n",
        "    'Lawyer':2,\n",
        "    'Entertainment':3,\n",
        "    'Artist':4,\n",
        "    'Executive':5,\n",
        "    'Doctor':6,\n",
        "    'Homemaker':7,\n",
        "    'Marketing':8,\n",
        "    np.nan:10\n",
        "}\n",
        "Gender = {\n",
        "    'Male':0,\n",
        "    'Female':1,\n",
        "    np.nan:10\n",
        "}\n",
        "Ever_Married = {\n",
        "    'Yes':0,\n",
        "    'No':1,\n",
        "    np.nan:10\n",
        "}\n",
        "Graduated = {\n",
        "    'Yes':0,\n",
        "    'No':1,\n",
        "    np.nan:10\n",
        "}\n",
        "Spending_Score = {\n",
        "    'Low':0,\n",
        "    'Average':1,\n",
        "    'High':2,\n",
        "    np.nan:10\n",
        "}\n",
        "to_change = [Gender, Ever_Married, Graduated, Spending_Score, Profession] \n",
        "\n",
        "for i in to_change:\n",
        "  train = train.replace(i)\n",
        "  test = test.replace(i)"
      ],
      "execution_count": 9,
      "outputs": []
    },
    {
      "cell_type": "code",
      "metadata": {
        "id": "Y2NZ2DfrXV9i",
        "colab_type": "code",
        "colab": {
          "base_uri": "https://localhost:8080/",
          "height": 204
        },
        "outputId": "1af1a4ff-51b4-4938-919a-667bd0cc2eed"
      },
      "source": [
        "train.nunique()"
      ],
      "execution_count": 10,
      "outputs": [
        {
          "output_type": "execute_result",
          "data": {
            "text/plain": [
              "ID                 8068\n",
              "Gender                2\n",
              "Ever_Married          3\n",
              "Age                  67\n",
              "Graduated             3\n",
              "Profession           10\n",
              "Work_Experience      15\n",
              "Spending_Score        3\n",
              "Family_Size          10\n",
              "Var_1                 8\n",
              "dtype: int64"
            ]
          },
          "metadata": {
            "tags": []
          },
          "execution_count": 10
        }
      ]
    },
    {
      "cell_type": "code",
      "metadata": {
        "id": "gC8vEim-XWAl",
        "colab_type": "code",
        "colab": {
          "base_uri": "https://localhost:8080/",
          "height": 204
        },
        "outputId": "c04d50f7-2308-40ad-b848-44ef020ebcd1"
      },
      "source": [
        "train.dtypes"
      ],
      "execution_count": 11,
      "outputs": [
        {
          "output_type": "execute_result",
          "data": {
            "text/plain": [
              "ID                   int64\n",
              "Gender               int64\n",
              "Ever_Married         int64\n",
              "Age                  int64\n",
              "Graduated            int64\n",
              "Profession           int64\n",
              "Work_Experience    float64\n",
              "Spending_Score       int64\n",
              "Family_Size        float64\n",
              "Var_1                int64\n",
              "dtype: object"
            ]
          },
          "metadata": {
            "tags": []
          },
          "execution_count": 11
        }
      ]
    },
    {
      "cell_type": "code",
      "metadata": {
        "id": "zZTPsIXl7zk5",
        "colab_type": "code",
        "colab": {}
      },
      "source": [
        "# train_target = train_target.replace(\n",
        "#     {\n",
        "#         'A':0,\n",
        "#         'B':1,\n",
        "#         'C':2,\n",
        "#         'D':3\n",
        "#     }\n",
        "# )"
      ],
      "execution_count": 12,
      "outputs": []
    },
    {
      "cell_type": "markdown",
      "metadata": {
        "id": "fHG8FIODmQoR",
        "colab_type": "text"
      },
      "source": [
        "# Missing Value Analysis"
      ]
    },
    {
      "cell_type": "code",
      "metadata": {
        "id": "eFpWnhtImZuS",
        "colab_type": "code",
        "colab": {
          "base_uri": "https://localhost:8080/",
          "height": 204
        },
        "outputId": "96710aef-b85c-4262-9338-1af3e928bc2d"
      },
      "source": [
        "train.isna().sum()"
      ],
      "execution_count": 13,
      "outputs": [
        {
          "output_type": "execute_result",
          "data": {
            "text/plain": [
              "ID                 0\n",
              "Gender             0\n",
              "Ever_Married       0\n",
              "Age                0\n",
              "Graduated          0\n",
              "Profession         0\n",
              "Work_Experience    0\n",
              "Spending_Score     0\n",
              "Family_Size        0\n",
              "Var_1              0\n",
              "dtype: int64"
            ]
          },
          "metadata": {
            "tags": []
          },
          "execution_count": 13
        }
      ]
    },
    {
      "cell_type": "code",
      "metadata": {
        "id": "PVE3UNCXmaEK",
        "colab_type": "code",
        "colab": {
          "base_uri": "https://localhost:8080/",
          "height": 204
        },
        "outputId": "bdc7ac01-e402-4064-9801-36a2bca8cce8"
      },
      "source": [
        "test.isna().sum()"
      ],
      "execution_count": 14,
      "outputs": [
        {
          "output_type": "execute_result",
          "data": {
            "text/plain": [
              "ID                 0\n",
              "Gender             0\n",
              "Ever_Married       0\n",
              "Age                0\n",
              "Graduated          0\n",
              "Profession         0\n",
              "Work_Experience    0\n",
              "Spending_Score     0\n",
              "Family_Size        0\n",
              "Var_1              0\n",
              "dtype: int64"
            ]
          },
          "metadata": {
            "tags": []
          },
          "execution_count": 14
        }
      ]
    },
    {
      "cell_type": "code",
      "metadata": {
        "id": "mvJPrYPkGUFm",
        "colab_type": "code",
        "colab": {}
      },
      "source": [
        "train = train.replace({10:np.nan})\n",
        "test = test.replace({10:np.nan})"
      ],
      "execution_count": 15,
      "outputs": []
    },
    {
      "cell_type": "code",
      "metadata": {
        "id": "-PcYoXf1mZ3B",
        "colab_type": "code",
        "colab": {
          "base_uri": "https://localhost:8080/",
          "height": 1000
        },
        "outputId": "27b888f9-1b26-4758-80ae-8c76bbf46999"
      },
      "source": [
        "from fancyimpute import KNN\n",
        "train = pd.DataFrame(KNN(k = 3).fit_transform(train), columns = test.columns)\n",
        "test = pd.DataFrame(KNN(k = 3).fit_transform(test), columns = test.columns)"
      ],
      "execution_count": 16,
      "outputs": [
        {
          "output_type": "stream",
          "text": [
            "/usr/local/lib/python3.6/dist-packages/sklearn/externals/six.py:31: FutureWarning: The module is deprecated in version 0.21 and will be removed in version 0.23 since we've dropped support for Python 2.7. Please rely on the official version of six (https://pypi.org/project/six/).\n",
            "  \"(https://pypi.org/project/six/).\", FutureWarning)\n",
            "Using TensorFlow backend.\n"
          ],
          "name": "stderr"
        },
        {
          "output_type": "stream",
          "text": [
            "Imputing row 1/8068 with 0 missing, elapsed time: 9.223\n",
            "Imputing row 101/8068 with 0 missing, elapsed time: 9.225\n",
            "Imputing row 201/8068 with 0 missing, elapsed time: 9.226\n",
            "Imputing row 301/8068 with 1 missing, elapsed time: 9.228\n",
            "Imputing row 401/8068 with 0 missing, elapsed time: 9.230\n",
            "Imputing row 501/8068 with 0 missing, elapsed time: 9.232\n",
            "Imputing row 601/8068 with 0 missing, elapsed time: 9.235\n",
            "Imputing row 701/8068 with 0 missing, elapsed time: 9.236\n",
            "Imputing row 801/8068 with 0 missing, elapsed time: 9.238\n",
            "Imputing row 901/8068 with 0 missing, elapsed time: 9.240\n",
            "Imputing row 1001/8068 with 0 missing, elapsed time: 9.242\n",
            "Imputing row 1101/8068 with 0 missing, elapsed time: 9.243\n",
            "Imputing row 1201/8068 with 0 missing, elapsed time: 9.244\n",
            "Imputing row 1301/8068 with 0 missing, elapsed time: 9.245\n",
            "Imputing row 1401/8068 with 1 missing, elapsed time: 9.247\n",
            "Imputing row 1501/8068 with 0 missing, elapsed time: 9.249\n",
            "Imputing row 1601/8068 with 1 missing, elapsed time: 9.250\n",
            "Imputing row 1701/8068 with 0 missing, elapsed time: 9.251\n",
            "Imputing row 1801/8068 with 0 missing, elapsed time: 9.253\n",
            "Imputing row 1901/8068 with 1 missing, elapsed time: 9.254\n",
            "Imputing row 2001/8068 with 1 missing, elapsed time: 9.255\n",
            "Imputing row 2101/8068 with 0 missing, elapsed time: 9.257\n",
            "Imputing row 2201/8068 with 0 missing, elapsed time: 9.258\n",
            "Imputing row 2301/8068 with 0 missing, elapsed time: 9.259\n",
            "Imputing row 2401/8068 with 0 missing, elapsed time: 9.261\n",
            "Imputing row 2501/8068 with 0 missing, elapsed time: 9.262\n",
            "Imputing row 2601/8068 with 1 missing, elapsed time: 9.264\n",
            "Imputing row 2701/8068 with 0 missing, elapsed time: 9.265\n",
            "Imputing row 2801/8068 with 0 missing, elapsed time: 9.267\n",
            "Imputing row 2901/8068 with 1 missing, elapsed time: 9.268\n",
            "Imputing row 3001/8068 with 0 missing, elapsed time: 9.270\n",
            "Imputing row 3101/8068 with 0 missing, elapsed time: 9.271\n",
            "Imputing row 3201/8068 with 0 missing, elapsed time: 9.273\n",
            "Imputing row 3301/8068 with 0 missing, elapsed time: 9.274\n",
            "Imputing row 3401/8068 with 0 missing, elapsed time: 9.276\n",
            "Imputing row 3501/8068 with 1 missing, elapsed time: 9.277\n",
            "Imputing row 3601/8068 with 0 missing, elapsed time: 9.278\n",
            "Imputing row 3701/8068 with 0 missing, elapsed time: 9.279\n",
            "Imputing row 3801/8068 with 0 missing, elapsed time: 9.281\n",
            "Imputing row 3901/8068 with 0 missing, elapsed time: 9.283\n",
            "Imputing row 4001/8068 with 0 missing, elapsed time: 9.284\n",
            "Imputing row 4101/8068 with 0 missing, elapsed time: 9.286\n",
            "Imputing row 4201/8068 with 0 missing, elapsed time: 9.287\n",
            "Imputing row 4301/8068 with 0 missing, elapsed time: 9.288\n",
            "Imputing row 4401/8068 with 0 missing, elapsed time: 9.290\n",
            "Imputing row 4501/8068 with 0 missing, elapsed time: 9.291\n",
            "Imputing row 4601/8068 with 0 missing, elapsed time: 9.293\n",
            "Imputing row 4701/8068 with 2 missing, elapsed time: 9.294\n",
            "Imputing row 4801/8068 with 0 missing, elapsed time: 9.296\n",
            "Imputing row 4901/8068 with 0 missing, elapsed time: 9.297\n",
            "Imputing row 5001/8068 with 0 missing, elapsed time: 9.298\n",
            "Imputing row 5101/8068 with 0 missing, elapsed time: 9.300\n",
            "Imputing row 5201/8068 with 0 missing, elapsed time: 9.301\n",
            "Imputing row 5301/8068 with 0 missing, elapsed time: 9.302\n",
            "Imputing row 5401/8068 with 0 missing, elapsed time: 9.304\n",
            "Imputing row 5501/8068 with 0 missing, elapsed time: 9.305\n",
            "Imputing row 5601/8068 with 1 missing, elapsed time: 9.307\n",
            "Imputing row 5701/8068 with 0 missing, elapsed time: 9.308\n",
            "Imputing row 5801/8068 with 0 missing, elapsed time: 9.309\n",
            "Imputing row 5901/8068 with 0 missing, elapsed time: 9.311\n",
            "Imputing row 6001/8068 with 0 missing, elapsed time: 9.312\n",
            "Imputing row 6101/8068 with 0 missing, elapsed time: 9.314\n",
            "Imputing row 6201/8068 with 0 missing, elapsed time: 9.315\n",
            "Imputing row 6301/8068 with 0 missing, elapsed time: 9.316\n",
            "Imputing row 6401/8068 with 0 missing, elapsed time: 9.318\n",
            "Imputing row 6501/8068 with 1 missing, elapsed time: 9.319\n",
            "Imputing row 6601/8068 with 1 missing, elapsed time: 9.321\n",
            "Imputing row 6701/8068 with 1 missing, elapsed time: 9.322\n",
            "Imputing row 6801/8068 with 0 missing, elapsed time: 9.324\n",
            "Imputing row 6901/8068 with 0 missing, elapsed time: 9.325\n",
            "Imputing row 7001/8068 with 0 missing, elapsed time: 9.326\n",
            "Imputing row 7101/8068 with 0 missing, elapsed time: 9.328\n",
            "Imputing row 7201/8068 with 0 missing, elapsed time: 9.329\n",
            "Imputing row 7301/8068 with 1 missing, elapsed time: 9.331\n",
            "Imputing row 7401/8068 with 1 missing, elapsed time: 9.333\n",
            "Imputing row 7501/8068 with 0 missing, elapsed time: 9.334\n",
            "Imputing row 7601/8068 with 0 missing, elapsed time: 9.336\n",
            "Imputing row 7701/8068 with 0 missing, elapsed time: 9.338\n",
            "Imputing row 7801/8068 with 0 missing, elapsed time: 9.339\n",
            "Imputing row 7901/8068 with 0 missing, elapsed time: 9.340\n",
            "Imputing row 8001/8068 with 0 missing, elapsed time: 9.341\n",
            "Imputing row 1/2627 with 0 missing, elapsed time: 0.752\n",
            "Imputing row 101/2627 with 0 missing, elapsed time: 0.753\n",
            "Imputing row 201/2627 with 0 missing, elapsed time: 0.755\n",
            "Imputing row 301/2627 with 0 missing, elapsed time: 0.756\n",
            "Imputing row 401/2627 with 1 missing, elapsed time: 0.757\n",
            "Imputing row 501/2627 with 1 missing, elapsed time: 0.758\n",
            "Imputing row 601/2627 with 0 missing, elapsed time: 0.759\n",
            "Imputing row 701/2627 with 0 missing, elapsed time: 0.760\n",
            "Imputing row 801/2627 with 0 missing, elapsed time: 0.761\n",
            "Imputing row 901/2627 with 0 missing, elapsed time: 0.762\n",
            "Imputing row 1001/2627 with 0 missing, elapsed time: 0.763\n",
            "Imputing row 1101/2627 with 0 missing, elapsed time: 0.764\n",
            "Imputing row 1201/2627 with 1 missing, elapsed time: 0.765\n",
            "Imputing row 1301/2627 with 0 missing, elapsed time: 0.766\n",
            "Imputing row 1401/2627 with 0 missing, elapsed time: 0.767\n",
            "Imputing row 1501/2627 with 0 missing, elapsed time: 0.767\n",
            "Imputing row 1601/2627 with 0 missing, elapsed time: 0.768\n",
            "Imputing row 1701/2627 with 0 missing, elapsed time: 0.769\n",
            "Imputing row 1801/2627 with 0 missing, elapsed time: 0.770\n",
            "Imputing row 1901/2627 with 0 missing, elapsed time: 0.771\n",
            "Imputing row 2001/2627 with 0 missing, elapsed time: 0.772\n",
            "Imputing row 2101/2627 with 2 missing, elapsed time: 0.773\n",
            "Imputing row 2201/2627 with 0 missing, elapsed time: 0.774\n",
            "Imputing row 2301/2627 with 0 missing, elapsed time: 0.775\n",
            "Imputing row 2401/2627 with 1 missing, elapsed time: 0.776\n",
            "Imputing row 2501/2627 with 1 missing, elapsed time: 0.777\n",
            "Imputing row 2601/2627 with 0 missing, elapsed time: 0.778\n"
          ],
          "name": "stdout"
        }
      ]
    },
    {
      "cell_type": "code",
      "metadata": {
        "id": "eIpExtQynSf-",
        "colab_type": "code",
        "colab": {
          "base_uri": "https://localhost:8080/",
          "height": 204
        },
        "outputId": "35c20b47-ebe3-4ba9-96b5-2b0ff5fd5318"
      },
      "source": [
        "train.nunique()"
      ],
      "execution_count": 17,
      "outputs": [
        {
          "output_type": "execute_result",
          "data": {
            "text/plain": [
              "ID                 8068\n",
              "Gender                2\n",
              "Ever_Married         84\n",
              "Age                  67\n",
              "Graduated            56\n",
              "Profession          127\n",
              "Work_Experience     869\n",
              "Spending_Score        3\n",
              "Family_Size         341\n",
              "Var_1                73\n",
              "dtype: int64"
            ]
          },
          "metadata": {
            "tags": []
          },
          "execution_count": 17
        }
      ]
    },
    {
      "cell_type": "code",
      "metadata": {
        "id": "F2DbLS77fdOA",
        "colab_type": "code",
        "colab": {}
      },
      "source": [
        "for i in train.columns:\n",
        "  train[i] = train[i].apply(lambda x: int(round(x)))\n",
        "  test[i] = test[i].apply(lambda x: int(round(x)))"
      ],
      "execution_count": 18,
      "outputs": []
    },
    {
      "cell_type": "code",
      "metadata": {
        "id": "247Gch9ZmZgU",
        "colab_type": "code",
        "colab": {
          "base_uri": "https://localhost:8080/",
          "height": 204
        },
        "outputId": "69c5e5a7-45f2-4e6e-effc-5a0d711eda3e"
      },
      "source": [
        "train.dtypes"
      ],
      "execution_count": 19,
      "outputs": [
        {
          "output_type": "execute_result",
          "data": {
            "text/plain": [
              "ID                 int64\n",
              "Gender             int64\n",
              "Ever_Married       int64\n",
              "Age                int64\n",
              "Graduated          int64\n",
              "Profession         int64\n",
              "Work_Experience    int64\n",
              "Spending_Score     int64\n",
              "Family_Size        int64\n",
              "Var_1              int64\n",
              "dtype: object"
            ]
          },
          "metadata": {
            "tags": []
          },
          "execution_count": 19
        }
      ]
    },
    {
      "cell_type": "markdown",
      "metadata": {
        "id": "SNR05A6bdJ-c",
        "colab_type": "text"
      },
      "source": [
        "# Model"
      ]
    },
    {
      "cell_type": "markdown",
      "metadata": {
        "id": "Kzp40lr0yQjF",
        "colab_type": "text"
      },
      "source": [
        "### Training Data"
      ]
    },
    {
      "cell_type": "code",
      "metadata": {
        "id": "GFs-jU5wobVn",
        "colab_type": "code",
        "colab": {
          "base_uri": "https://localhost:8080/",
          "height": 204
        },
        "outputId": "42b42268-9b52-49cb-a51f-5061bfa5d2dc"
      },
      "source": [
        "train.head()"
      ],
      "execution_count": 20,
      "outputs": [
        {
          "output_type": "execute_result",
          "data": {
            "text/html": [
              "<div>\n",
              "<style scoped>\n",
              "    .dataframe tbody tr th:only-of-type {\n",
              "        vertical-align: middle;\n",
              "    }\n",
              "\n",
              "    .dataframe tbody tr th {\n",
              "        vertical-align: top;\n",
              "    }\n",
              "\n",
              "    .dataframe thead th {\n",
              "        text-align: right;\n",
              "    }\n",
              "</style>\n",
              "<table border=\"1\" class=\"dataframe\">\n",
              "  <thead>\n",
              "    <tr style=\"text-align: right;\">\n",
              "      <th></th>\n",
              "      <th>ID</th>\n",
              "      <th>Gender</th>\n",
              "      <th>Ever_Married</th>\n",
              "      <th>Age</th>\n",
              "      <th>Graduated</th>\n",
              "      <th>Profession</th>\n",
              "      <th>Work_Experience</th>\n",
              "      <th>Spending_Score</th>\n",
              "      <th>Family_Size</th>\n",
              "      <th>Var_1</th>\n",
              "    </tr>\n",
              "  </thead>\n",
              "  <tbody>\n",
              "    <tr>\n",
              "      <th>0</th>\n",
              "      <td>462809</td>\n",
              "      <td>0</td>\n",
              "      <td>1</td>\n",
              "      <td>22</td>\n",
              "      <td>1</td>\n",
              "      <td>0</td>\n",
              "      <td>1</td>\n",
              "      <td>0</td>\n",
              "      <td>4</td>\n",
              "      <td>4</td>\n",
              "    </tr>\n",
              "    <tr>\n",
              "      <th>1</th>\n",
              "      <td>462643</td>\n",
              "      <td>1</td>\n",
              "      <td>0</td>\n",
              "      <td>38</td>\n",
              "      <td>0</td>\n",
              "      <td>1</td>\n",
              "      <td>5</td>\n",
              "      <td>1</td>\n",
              "      <td>3</td>\n",
              "      <td>4</td>\n",
              "    </tr>\n",
              "    <tr>\n",
              "      <th>2</th>\n",
              "      <td>466315</td>\n",
              "      <td>1</td>\n",
              "      <td>0</td>\n",
              "      <td>67</td>\n",
              "      <td>0</td>\n",
              "      <td>1</td>\n",
              "      <td>1</td>\n",
              "      <td>0</td>\n",
              "      <td>1</td>\n",
              "      <td>6</td>\n",
              "    </tr>\n",
              "    <tr>\n",
              "      <th>3</th>\n",
              "      <td>461735</td>\n",
              "      <td>0</td>\n",
              "      <td>0</td>\n",
              "      <td>67</td>\n",
              "      <td>0</td>\n",
              "      <td>2</td>\n",
              "      <td>0</td>\n",
              "      <td>2</td>\n",
              "      <td>2</td>\n",
              "      <td>6</td>\n",
              "    </tr>\n",
              "    <tr>\n",
              "      <th>4</th>\n",
              "      <td>462669</td>\n",
              "      <td>1</td>\n",
              "      <td>0</td>\n",
              "      <td>40</td>\n",
              "      <td>0</td>\n",
              "      <td>3</td>\n",
              "      <td>4</td>\n",
              "      <td>2</td>\n",
              "      <td>6</td>\n",
              "      <td>6</td>\n",
              "    </tr>\n",
              "  </tbody>\n",
              "</table>\n",
              "</div>"
            ],
            "text/plain": [
              "       ID  Gender  Ever_Married  ...  Spending_Score  Family_Size  Var_1\n",
              "0  462809       0             1  ...               0            4      4\n",
              "1  462643       1             0  ...               1            3      4\n",
              "2  466315       1             0  ...               0            1      6\n",
              "3  461735       0             0  ...               2            2      6\n",
              "4  462669       1             0  ...               2            6      6\n",
              "\n",
              "[5 rows x 10 columns]"
            ]
          },
          "metadata": {
            "tags": []
          },
          "execution_count": 20
        }
      ]
    },
    {
      "cell_type": "code",
      "metadata": {
        "id": "Wqbrvo7tK_Vs",
        "colab_type": "code",
        "colab": {
          "base_uri": "https://localhost:8080/",
          "height": 34
        },
        "outputId": "ff1f93f5-7c52-4dfd-c368-7f3f3ad31241"
      },
      "source": [
        "train = pd.concat([train, train_target], axis=1)\n",
        "train.shape"
      ],
      "execution_count": 21,
      "outputs": [
        {
          "output_type": "execute_result",
          "data": {
            "text/plain": [
              "(8068, 11)"
            ]
          },
          "metadata": {
            "tags": []
          },
          "execution_count": 21
        }
      ]
    },
    {
      "cell_type": "code",
      "metadata": {
        "id": "DjFFaxmDyXej",
        "colab_type": "code",
        "colab": {}
      },
      "source": [
        "# train.to_csv('train.csv',index=False)\n",
        "# test.to_csv('test.csv', index=False)"
      ],
      "execution_count": 22,
      "outputs": []
    },
    {
      "cell_type": "markdown",
      "metadata": {
        "id": "WGyU3-jJkX6-",
        "colab_type": "text"
      },
      "source": [
        "# Analysis"
      ]
    },
    {
      "cell_type": "code",
      "metadata": {
        "id": "k_D0BYX4ka-0",
        "colab_type": "code",
        "colab": {
          "base_uri": "https://localhost:8080/",
          "height": 102
        },
        "outputId": "13580afb-59e6-4143-a9a7-11208d8dd903"
      },
      "source": [
        "train['Segmentation'].value_counts()"
      ],
      "execution_count": 23,
      "outputs": [
        {
          "output_type": "execute_result",
          "data": {
            "text/plain": [
              "D    2268\n",
              "A    1972\n",
              "C    1970\n",
              "B    1858\n",
              "Name: Segmentation, dtype: int64"
            ]
          },
          "metadata": {
            "tags": []
          },
          "execution_count": 23
        }
      ]
    },
    {
      "cell_type": "code",
      "metadata": {
        "id": "QcYm90TDckBj",
        "colab_type": "code",
        "colab": {}
      },
      "source": [
        "from sklearn.model_selection import train_test_split\n",
        "from sklearn.metrics import accuracy_score"
      ],
      "execution_count": 24,
      "outputs": []
    },
    {
      "cell_type": "code",
      "metadata": {
        "id": "HNw3qTkUFBjL",
        "colab_type": "code",
        "colab": {
          "base_uri": "https://localhost:8080/",
          "height": 34
        },
        "outputId": "915d103c-827d-46be-ebc1-032b0186410b"
      },
      "source": [
        "X = train\n",
        "X.shape"
      ],
      "execution_count": 25,
      "outputs": [
        {
          "output_type": "execute_result",
          "data": {
            "text/plain": [
              "(8068, 11)"
            ]
          },
          "metadata": {
            "tags": []
          },
          "execution_count": 25
        }
      ]
    },
    {
      "cell_type": "code",
      "metadata": {
        "id": "sXGDYCpxA69W",
        "colab_type": "code",
        "colab": {}
      },
      "source": [
        "y = X['Segmentation']\n",
        "X = X.drop(['ID', 'Segmentation'], axis=1)\n",
        "# X = X[['Age', 'Graduated', 'Profession', 'Spending_Score']]"
      ],
      "execution_count": 26,
      "outputs": []
    },
    {
      "cell_type": "code",
      "metadata": {
        "id": "GRnUIG8IdfVh",
        "colab_type": "code",
        "colab": {}
      },
      "source": [
        "X_train, X_test, y_train, y_test = train_test_split(X, y, test_size=0.2)"
      ],
      "execution_count": 27,
      "outputs": []
    },
    {
      "cell_type": "markdown",
      "metadata": {
        "id": "oZwLz5d2l-VZ",
        "colab_type": "text"
      },
      "source": [
        "## XGB"
      ]
    },
    {
      "cell_type": "code",
      "metadata": {
        "id": "NHt4-x6q6kT0",
        "colab_type": "code",
        "colab": {}
      },
      "source": [
        "from sklearn.model_selection import GridSearchCV\n",
        "from sklearn.model_selection import KFold\n",
        "from xgboost.sklearn import XGBClassifier"
      ],
      "execution_count": 28,
      "outputs": []
    },
    {
      "cell_type": "code",
      "metadata": {
        "id": "p0rvMmgF6Rx2",
        "colab_type": "code",
        "colab": {}
      },
      "source": [
        "grid = {\n",
        "        'min_child_weight': [1, 5, 10],\n",
        "        'gamma': [0.5, 1, 1.5, 2, 5],\n",
        "        'subsample': [0.6, 0.8, 1.0],\n",
        "        'colsample_bytree': [0.6, 0.8, 1.0],\n",
        "        'max_depth': [3, 4, 5]\n",
        "        }\n",
        "kf = KFold(n_splits=2)\n",
        "\n",
        "gs = GridSearchCV(estimator = XGBClassifier(n_estimators=500), param_grid = grid, scoring='accuracy',n_jobs=4, cv=kf)"
      ],
      "execution_count": null,
      "outputs": []
    },
    {
      "cell_type": "code",
      "metadata": {
        "id": "Wbmlreg8dkZE",
        "colab_type": "code",
        "colab": {}
      },
      "source": [
        "gs.fit(X_train, y_train)\n",
        "\n",
        "y_pred = gs.predict(X_test)\n",
        "\n",
        "accuracy = accuracy_score(y_test, y_pred)\n",
        "print(\"Accuracy: %.2f%%\" % (accuracy * 100.0))"
      ],
      "execution_count": null,
      "outputs": []
    },
    {
      "cell_type": "code",
      "metadata": {
        "id": "FIzGT-d0Eg4H",
        "colab_type": "code",
        "colab": {
          "base_uri": "https://localhost:8080/",
          "height": 136
        },
        "outputId": "18a764e1-5509-490f-a9e4-eda6fcc9f415"
      },
      "source": [
        "gs.best_estimator_"
      ],
      "execution_count": null,
      "outputs": [
        {
          "output_type": "execute_result",
          "data": {
            "text/plain": [
              "XGBClassifier(base_score=0.5, booster='gbtree', colsample_bylevel=1,\n",
              "              colsample_bynode=1, colsample_bytree=0.6, gamma=2,\n",
              "              learning_rate=0.1, max_delta_step=0, max_depth=4,\n",
              "              min_child_weight=1, missing=None, n_estimators=500, n_jobs=1,\n",
              "              nthread=None, objective='multi:softprob', random_state=0,\n",
              "              reg_alpha=0, reg_lambda=1, scale_pos_weight=1, seed=None,\n",
              "              silent=None, subsample=0.8, verbosity=1)"
            ]
          },
          "metadata": {
            "tags": []
          },
          "execution_count": 38
        }
      ]
    },
    {
      "cell_type": "code",
      "metadata": {
        "id": "dDLVCoXtEnKQ",
        "colab_type": "code",
        "colab": {}
      },
      "source": [
        "xgb = XGBClassifier(base_score=0.5, booster='gbtree', colsample_bylevel=1,\n",
        "              colsample_bynode=1, colsample_bytree=0.6, gamma=2,\n",
        "              learning_rate=0.1, max_delta_step=0, max_depth=4,\n",
        "              min_child_weight=1, missing=None, n_estimators=500, n_jobs=1,\n",
        "              nthread=None, objective='multi:softprob', random_state=0,\n",
        "              reg_alpha=0, reg_lambda=1, scale_pos_weight=1, seed=None,\n",
        "              silent=None, subsample=0.8, verbosity=1)"
      ],
      "execution_count": 29,
      "outputs": []
    },
    {
      "cell_type": "code",
      "metadata": {
        "id": "aaX-I4Q6E93V",
        "colab_type": "code",
        "colab": {}
      },
      "source": [
        "xgb.fit(X_train, y_train)\n",
        "\n",
        "y_pred = xgb.predict(X_test)\n",
        "\n",
        "accuracy = accuracy_score(y_test, y_pred)\n",
        "print(\"Accuracy: %.2f%%\" % (accuracy * 100.0))"
      ],
      "execution_count": null,
      "outputs": []
    },
    {
      "cell_type": "code",
      "metadata": {
        "id": "3d7q-xHcHfMf",
        "colab_type": "code",
        "colab": {
          "base_uri": "https://localhost:8080/",
          "height": 68
        },
        "outputId": "4d97cea7-869e-4f68-bdcb-9ff3bfd70e79"
      },
      "source": [
        "X_train.columns"
      ],
      "execution_count": null,
      "outputs": [
        {
          "output_type": "execute_result",
          "data": {
            "text/plain": [
              "Index(['Gender', 'Ever_Married', 'Age', 'Graduated', 'Profession',\n",
              "       'Work_Experience', 'Spending_Score', 'Family_Size', 'Var_1'],\n",
              "      dtype='object')"
            ]
          },
          "metadata": {
            "tags": []
          },
          "execution_count": 32
        }
      ]
    },
    {
      "cell_type": "code",
      "metadata": {
        "id": "TDAW2WZ4G0YP",
        "colab_type": "code",
        "colab": {
          "base_uri": "https://localhost:8080/",
          "height": 51
        },
        "outputId": "3c23fcdd-1d70-407b-903d-05ec358c1cb5"
      },
      "source": [
        "xgb.feature_importances_"
      ],
      "execution_count": null,
      "outputs": [
        {
          "output_type": "execute_result",
          "data": {
            "text/plain": [
              "array([0.05267955, 0.26382548, 0.08406047, 0.1834555 , 0.11984829,\n",
              "       0.04231317, 0.1310548 , 0.06733237, 0.05543034], dtype=float32)"
            ]
          },
          "metadata": {
            "tags": []
          },
          "execution_count": 33
        }
      ]
    },
    {
      "cell_type": "markdown",
      "metadata": {
        "id": "weD2txBFmDB5",
        "colab_type": "text"
      },
      "source": [
        "## SVM"
      ]
    },
    {
      "cell_type": "code",
      "metadata": {
        "id": "rX0MauZemDi2",
        "colab_type": "code",
        "colab": {}
      },
      "source": [
        "from sklearn.ensemble import RandomForestClassifier\n",
        "clf_svm = RandomForestClassifier(\n",
        "    n_estimators=1000\n",
        ")\n",
        "\n",
        "clf_svm.fit(X_train, y_train)\n",
        "y_pred = clf_svm.predict(X_test)\n",
        "\n",
        "accuracy = accuracy_score(y_test, y_pred)\n",
        "print(\"Accuracy: %.2f%%\" % (accuracy * 100.0))"
      ],
      "execution_count": null,
      "outputs": []
    },
    {
      "cell_type": "markdown",
      "metadata": {
        "id": "pjo6OZtwDYN0",
        "colab_type": "text"
      },
      "source": [
        "# Random Forest"
      ]
    },
    {
      "cell_type": "code",
      "metadata": {
        "id": "gB8FJIeZDZyp",
        "colab_type": "code",
        "colab": {}
      },
      "source": [
        "from sklearn.ensemble import RandomForestClassifier\n",
        "clf_rf = RandomForestClassifier(\n",
        "    max_depth=2, \n",
        "    random_state=0,\n",
        "    n_estimators=500,\n",
        "    \n",
        ")\n",
        "\n",
        "clf_rf.fit(X_train, y_train)\n",
        "y_pred = clf_rf.predict(X_test)\n",
        "\n",
        "accuracy = accuracy_score(y_test, y_pred)\n",
        "print(\"Accuracy: %.2f%%\" % (accuracy * 100.0))"
      ],
      "execution_count": null,
      "outputs": []
    },
    {
      "cell_type": "markdown",
      "metadata": {
        "id": "DMo3Bbhy_0VK",
        "colab_type": "text"
      },
      "source": [
        "# Deep Learning Model"
      ]
    },
    {
      "cell_type": "code",
      "metadata": {
        "id": "V_0Alskr_4bY",
        "colab_type": "code",
        "colab": {}
      },
      "source": [
        "# from tensorflow.keras.layers import Dense, Dropout\n",
        "# from tensorflow.keras.models import Sequential\n",
        "# from tensorflow.keras.callbacks import EarlyStopping\n",
        "\n",
        "# callback = EarlyStopping(\n",
        "#     monitor='val_accuracy',\n",
        "#     patience=5\n",
        "# )"
      ],
      "execution_count": null,
      "outputs": []
    },
    {
      "cell_type": "code",
      "metadata": {
        "id": "8_Z9OB2L_4e_",
        "colab_type": "code",
        "colab": {}
      },
      "source": [
        "# model = Sequential([\n",
        "#                        Dense(64,input_shape=(None, 4), activation='relu'),\n",
        "#                        Dense(128, activation='relu'),\n",
        "#                        Dense(64, activation='relu'),\n",
        "#                        Dense(4, activation='softmax'),\n",
        "# ])\n",
        "# model.compile(\n",
        "#     loss='sparse_categorical_crossentropy',\n",
        "#     optimizer='adam',\n",
        "#     metrics=['accuracy']\n",
        "# )"
      ],
      "execution_count": null,
      "outputs": []
    },
    {
      "cell_type": "code",
      "metadata": {
        "id": "2YUyUw8ydVI8",
        "colab_type": "code",
        "colab": {
          "base_uri": "https://localhost:8080/",
          "height": 34
        },
        "outputId": "0069c674-1fc6-44c7-e8b0-180f8b4690cd"
      },
      "source": [
        "# X_train.shape"
      ],
      "execution_count": null,
      "outputs": [
        {
          "output_type": "execute_result",
          "data": {
            "text/plain": [
              "(4588, 4)"
            ]
          },
          "metadata": {
            "tags": []
          },
          "execution_count": 44
        }
      ]
    },
    {
      "cell_type": "code",
      "metadata": {
        "id": "ZFcUKbXKOwWs",
        "colab_type": "code",
        "colab": {
          "base_uri": "https://localhost:8080/",
          "height": 289
        },
        "outputId": "82bf3a27-93e3-4d77-d9e0-88469bb033e3"
      },
      "source": [
        "# model.summary()"
      ],
      "execution_count": null,
      "outputs": [
        {
          "output_type": "stream",
          "text": [
            "Model: \"sequential\"\n",
            "_________________________________________________________________\n",
            "Layer (type)                 Output Shape              Param #   \n",
            "=================================================================\n",
            "dense_1 (Dense)              (None, None, 64)          320       \n",
            "_________________________________________________________________\n",
            "dense_2 (Dense)              (None, None, 128)         8320      \n",
            "_________________________________________________________________\n",
            "dense_3 (Dense)              (None, None, 64)          8256      \n",
            "_________________________________________________________________\n",
            "dense_4 (Dense)              (None, None, 4)           260       \n",
            "=================================================================\n",
            "Total params: 17,156\n",
            "Trainable params: 17,156\n",
            "Non-trainable params: 0\n",
            "_________________________________________________________________\n"
          ],
          "name": "stdout"
        }
      ]
    },
    {
      "cell_type": "code",
      "metadata": {
        "id": "58HsRsMH_4YU",
        "colab_type": "code",
        "colab": {}
      },
      "source": [
        "# model.fit(X_train,y_train,\n",
        "#           validation_data=(X_test, y_test),\n",
        "#           epochs=100,\n",
        "#           callbacks=[callback],\n",
        "#           verbose=1\n",
        "# )"
      ],
      "execution_count": null,
      "outputs": []
    },
    {
      "cell_type": "markdown",
      "metadata": {
        "id": "KJfbsm3amD7-",
        "colab_type": "text"
      },
      "source": [
        "# Final"
      ]
    },
    {
      "cell_type": "code",
      "metadata": {
        "id": "N3atsgRWejCc",
        "colab_type": "code",
        "colab": {}
      },
      "source": [
        "xgb.fit(X, y)\n",
        "\n",
        "predictions = xgb.predict(test.drop(['ID'], axis=1))"
      ],
      "execution_count": null,
      "outputs": []
    },
    {
      "cell_type": "code",
      "metadata": {
        "id": "TyUzC2JwejFf",
        "colab_type": "code",
        "colab": {}
      },
      "source": [
        "submission = pd.DataFrame({\n",
        "    'ID':test['ID'],\n",
        "    'Segmentation':predictions\n",
        "    })"
      ],
      "execution_count": null,
      "outputs": []
    },
    {
      "cell_type": "code",
      "metadata": {
        "id": "chn8yU5jp3gc",
        "colab_type": "code",
        "colab": {}
      },
      "source": [
        "submission.reset_index(inplace=True, drop=True)"
      ],
      "execution_count": null,
      "outputs": []
    },
    {
      "cell_type": "code",
      "metadata": {
        "id": "eb3bq_GHrrTP",
        "colab_type": "code",
        "colab": {}
      },
      "source": [
        "submission.to_csv('eighth.csv',index=False)"
      ],
      "execution_count": null,
      "outputs": []
    },
    {
      "cell_type": "code",
      "metadata": {
        "id": "8lDG-tSFsemT",
        "colab_type": "code",
        "colab": {
          "base_uri": "https://localhost:8080/",
          "height": 204
        },
        "outputId": "4833a22d-74cf-4668-cb2c-21aa1029fc01"
      },
      "source": [
        "df = pd.read_csv('eighth.csv')\n",
        "df.head()"
      ],
      "execution_count": null,
      "outputs": [
        {
          "output_type": "execute_result",
          "data": {
            "text/html": [
              "<div>\n",
              "<style scoped>\n",
              "    .dataframe tbody tr th:only-of-type {\n",
              "        vertical-align: middle;\n",
              "    }\n",
              "\n",
              "    .dataframe tbody tr th {\n",
              "        vertical-align: top;\n",
              "    }\n",
              "\n",
              "    .dataframe thead th {\n",
              "        text-align: right;\n",
              "    }\n",
              "</style>\n",
              "<table border=\"1\" class=\"dataframe\">\n",
              "  <thead>\n",
              "    <tr style=\"text-align: right;\">\n",
              "      <th></th>\n",
              "      <th>ID</th>\n",
              "      <th>Segmentation</th>\n",
              "    </tr>\n",
              "  </thead>\n",
              "  <tbody>\n",
              "    <tr>\n",
              "      <th>0</th>\n",
              "      <td>458989</td>\n",
              "      <td>B</td>\n",
              "    </tr>\n",
              "    <tr>\n",
              "      <th>1</th>\n",
              "      <td>458994</td>\n",
              "      <td>C</td>\n",
              "    </tr>\n",
              "    <tr>\n",
              "      <th>2</th>\n",
              "      <td>458996</td>\n",
              "      <td>A</td>\n",
              "    </tr>\n",
              "    <tr>\n",
              "      <th>3</th>\n",
              "      <td>459000</td>\n",
              "      <td>C</td>\n",
              "    </tr>\n",
              "    <tr>\n",
              "      <th>4</th>\n",
              "      <td>459001</td>\n",
              "      <td>C</td>\n",
              "    </tr>\n",
              "  </tbody>\n",
              "</table>\n",
              "</div>"
            ],
            "text/plain": [
              "       ID Segmentation\n",
              "0  458989            B\n",
              "1  458994            C\n",
              "2  458996            A\n",
              "3  459000            C\n",
              "4  459001            C"
            ]
          },
          "metadata": {
            "tags": []
          },
          "execution_count": 109
        }
      ]
    },
    {
      "cell_type": "code",
      "metadata": {
        "id": "5dbwuvJWs2Ro",
        "colab_type": "code",
        "colab": {}
      },
      "source": [
        "# submission.to_csv('/content/drive/My Drive/Data Hack/Customer Segmentation/sixth.csv', index=False)"
      ],
      "execution_count": null,
      "outputs": []
    }
  ]
}